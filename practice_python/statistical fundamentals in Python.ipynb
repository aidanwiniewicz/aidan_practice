{
 "cells": [
  {
   "cell_type": "code",
   "execution_count": 5,
   "id": "ff93096d-4262-42a8-b42b-66d7bebea958",
   "metadata": {},
   "outputs": [],
   "source": [
    "#import relevant packages\n",
    "import math\n",
    "import statistics\n",
    "import numpy as np"
   ]
  },
  {
   "cell_type": "code",
   "execution_count": 31,
   "id": "51ad481f",
   "metadata": {},
   "outputs": [
    {
     "name": "stdout",
     "output_type": "stream",
     "text": [
      "The mean is 44.285714285714285\n"
     ]
    }
   ],
   "source": [
    "numbers = [10,10, 20,20, 20 , 20, 30,40,50,60,70,80,90,100]\n",
    "print(\"The mean is \" + str(statistics.mean(numbers)))"
   ]
  },
  {
   "cell_type": "code",
   "execution_count": 32,
   "id": "73c15140",
   "metadata": {},
   "outputs": [
    {
     "name": "stdout",
     "output_type": "stream",
     "text": [
      "The median is 35.0\n",
      "The mode is 20\n"
     ]
    }
   ],
   "source": [
    "print(\"The median is \" + str(statistics.median(numbers)))\n",
    "print(\"The mode is \" + str(statistics.mode(numbers)))"
   ]
  },
  {
   "cell_type": "code",
   "execution_count": 34,
   "id": "9e8ce5c8",
   "metadata": {},
   "outputs": [
    {
     "name": "stdout",
     "output_type": "stream",
     "text": [
      "the mode is 20\n"
     ]
    }
   ],
   "source": [
    "# an equivalent way to calculate the mode\n",
    "print(\"the mode is \" + str(max(set(numbers), key = numbers.count)))"
   ]
  }
 ],
 "metadata": {
  "kernelspec": {
   "display_name": "Python 3 (ipykernel)",
   "language": "python",
   "name": "python3"
  },
  "language_info": {
   "codemirror_mode": {
    "name": "ipython",
    "version": 3
   },
   "file_extension": ".py",
   "mimetype": "text/x-python",
   "name": "python",
   "nbconvert_exporter": "python",
   "pygments_lexer": "ipython3",
   "version": "3.9.12"
  }
 },
 "nbformat": 4,
 "nbformat_minor": 5
}
