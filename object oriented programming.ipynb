{
 "cells": [
  {
   "cell_type": "code",
   "execution_count": 47,
   "id": "c404470b",
   "metadata": {},
   "outputs": [],
   "source": [
    "class dog:\n",
    "    def __init__(self, name, age):\n",
    "        self.name = name\n",
    "        self.age = age\n",
    "    def bark(self):\n",
    "        print(\"bark\")\n",
    "    def add_one(self,x):\n",
    "            return x+1\n",
    "    def get_name(self):\n",
    "        return self.name\n",
    "    def get_age(self):\n",
    "        return self.age\n",
    "    def set_age(self, age):\n",
    "        self.age = age"
   ]
  },
  {
   "cell_type": "code",
   "execution_count": 53,
   "id": "783f33a3",
   "metadata": {},
   "outputs": [
    {
     "data": {
      "text/plain": [
       "10"
      ]
     },
     "execution_count": 53,
     "metadata": {},
     "output_type": "execute_result"
    }
   ],
   "source": [
    "d = dog(\"Tank\", 9)\n",
    "#print(type(d))\n",
    "#d.bark()\n",
    "d.set_age(10)\n",
    "d.get_age()"
   ]
  },
  {
   "cell_type": "code",
   "execution_count": 16,
   "id": "e3359a40",
   "metadata": {},
   "outputs": [
    {
     "data": {
      "text/plain": [
       "20"
      ]
     },
     "execution_count": 16,
     "metadata": {},
     "output_type": "execute_result"
    }
   ],
   "source": [
    "d.add_one(19)"
   ]
  },
  {
   "cell_type": "code",
   "execution_count": 135,
   "id": "c03164e9",
   "metadata": {},
   "outputs": [
    {
     "name": "stdout",
     "output_type": "stream",
     "text": [
      "100 90\n"
     ]
    },
    {
     "data": {
      "text/plain": [
       "50.0"
      ]
     },
     "execution_count": 135,
     "metadata": {},
     "output_type": "execute_result"
    }
   ],
   "source": [
    "class Student:\n",
    "    def __init__(self, name, age, grade):\n",
    "        self.name = name\n",
    "        self.age = age\n",
    "        self.grade = grade #between 0 and 100\n",
    "        \n",
    "    def get_grade(self):\n",
    "        return self.grade\n",
    "    \n",
    "class Course:\n",
    "    def __init__(self, name, max_students):\n",
    "        self.name = name\n",
    "        self.max_students = max_students\n",
    "        self.student = []\n",
    "    def add_students(self, student):\n",
    "        if len(self.student) < self.max_students:\n",
    "            self.student.append(student)\n",
    "            return True\n",
    "            return False\n",
    "    def get_avg_grade(self):\n",
    "        value = 0\n",
    "        for student in self.student:\n",
    "            value += student.get_grade()\n",
    "            return value / len(self.student)\n",
    "    \n",
    "s1 = Student(\"Aidan\" , 22, 100)\n",
    "s2 = Student(\"Cal\" , 22 , 90)\n",
    "s3 = Student(\"Nyah\" , 20 , 95)\n",
    "\n",
    "course = Course(\"Math\" , 2)\n",
    "course.add_students(s1)\n",
    "course.add_students(s2)\n",
    "course.add_students(s3)\n",
    "\n",
    "print(course.student[0].grade, course.student[1].grade)\n",
    "course.get_avg_grade()\n",
    "\n"
   ]
  },
  {
   "cell_type": "code",
   "execution_count": null,
   "id": "edce9c68",
   "metadata": {},
   "outputs": [],
   "source": []
  }
 ],
 "metadata": {
  "kernelspec": {
   "display_name": "Python 3 (ipykernel)",
   "language": "python",
   "name": "python3"
  },
  "language_info": {
   "codemirror_mode": {
    "name": "ipython",
    "version": 3
   },
   "file_extension": ".py",
   "mimetype": "text/x-python",
   "name": "python",
   "nbconvert_exporter": "python",
   "pygments_lexer": "ipython3",
   "version": "3.9.12"
  }
 },
 "nbformat": 4,
 "nbformat_minor": 5
}
