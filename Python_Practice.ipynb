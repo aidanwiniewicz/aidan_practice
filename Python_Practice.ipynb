{
 "cells": [
  {
   "cell_type": "markdown",
   "id": "7ee4c872-eef5-4ff1-a0f0-4ae360303a52",
   "metadata": {},
   "source": [
    "This is to practice python"
   ]
  },
  {
   "cell_type": "code",
   "execution_count": 6,
   "id": "957c6f73-808f-4c1a-93b6-0c3b7401a4d9",
   "metadata": {},
   "outputs": [
    {
     "name": "stdout",
     "output_type": "stream",
     "text": [
      "4\n"
     ]
    },
    {
     "data": {
      "text/plain": [
       "0"
      ]
     },
     "execution_count": 6,
     "metadata": {},
     "output_type": "execute_result"
    }
   ],
   "source": [
    "help_me = 4\n",
    "print(help_me)\n",
    "15%3"
   ]
  },
  {
   "cell_type": "code",
   "execution_count": 12,
   "id": "839ff505-0f5f-4489-9d77-a06a40a4f2e3",
   "metadata": {},
   "outputs": [
    {
     "data": {
      "text/plain": [
       "'cabigboit'"
      ]
     },
     "execution_count": 12,
     "metadata": {},
     "output_type": "execute_result"
    }
   ],
   "source": [
    "animal = 'ca{}t'.format('bigboi')\n",
    "animal"
   ]
  },
  {
   "cell_type": "code",
   "execution_count": 17,
   "id": "322ea2bf-e14f-4e42-a7e1-cf02e37a214e",
   "metadata": {},
   "outputs": [
    {
     "data": {
      "text/plain": [
       "'I am 22.00 years old'"
      ]
     },
     "execution_count": 17,
     "metadata": {},
     "output_type": "execute_result"
    }
   ],
   "source": [
    "age = 22;\n",
    "'I am {:.2f} years old'.format(age)"
   ]
  },
  {
   "cell_type": "code",
   "execution_count": 20,
   "id": "1dc092a5-bf37-4169-9ce3-2ad4f742993a",
   "metadata": {},
   "outputs": [
    {
     "data": {
      "text/plain": [
       "1"
      ]
     },
     "execution_count": 20,
     "metadata": {},
     "output_type": "execute_result"
    }
   ],
   "source": [
    "mylist = [1,2,3,5,8,13]\n",
    "mylist[0]"
   ]
  },
  {
   "cell_type": "code",
   "execution_count": 28,
   "id": "7e1274ac-cfc0-4b73-86c1-31fcdb4465a3",
   "metadata": {},
   "outputs": [
    {
     "data": {
      "text/plain": [
       "[1, 2, 3, 5, 8, 13, 21, 21]"
      ]
     },
     "execution_count": 28,
     "metadata": {},
     "output_type": "execute_result"
    }
   ],
   "source": [
    "mylist_6 = mylist[4] + mylist[5]\n",
    "mylist.append(mylist_6)\n",
    "mylist.remove(21)\n",
    "mylist\n"
   ]
  },
  {
   "cell_type": "code",
   "execution_count": 31,
   "id": "1d5b183e-c3ce-4831-822a-3a6eb572d1b7",
   "metadata": {},
   "outputs": [
    {
     "data": {
      "text/plain": [
       "[1, 2, 3, 5, 8, 13]"
      ]
     },
     "execution_count": 31,
     "metadata": {},
     "output_type": "execute_result"
    }
   ],
   "source": [
    "mylist.remove(mylist[6])\n",
    "mylist"
   ]
  },
  {
   "cell_type": "code",
   "execution_count": 32,
   "id": "a21d51f5-c577-4ef6-be26-40a4b2b1d8fd",
   "metadata": {},
   "outputs": [],
   "source": [
    "mylist.append(21)"
   ]
  },
  {
   "cell_type": "code",
   "execution_count": 33,
   "id": "c8d9bdd3-eb2e-4860-a38c-0490a6a55e14",
   "metadata": {},
   "outputs": [
    {
     "data": {
      "text/plain": [
       "[1, 2, 3, 5, 8, 13, 21]"
      ]
     },
     "execution_count": 33,
     "metadata": {},
     "output_type": "execute_result"
    }
   ],
   "source": [
    "mylist"
   ]
  },
  {
   "cell_type": "code",
   "execution_count": 34,
   "id": "1b5fb3ea-3acd-45bf-bd96-2a8729efeee6",
   "metadata": {},
   "outputs": [],
   "source": [
    "dict = {'birthday': 'April', 'job day': 'August'}"
   ]
  },
  {
   "cell_type": "code",
   "execution_count": 35,
   "id": "8e4e665d-a12d-4a57-b950-6160d4fe5f0a",
   "metadata": {},
   "outputs": [
    {
     "data": {
      "text/plain": [
       "'April'"
      ]
     },
     "execution_count": 35,
     "metadata": {},
     "output_type": "execute_result"
    }
   ],
   "source": []
  },
  {
   "cell_type": "code",
   "execution_count": 38,
   "id": "ddfc2fdd-6bf9-4a85-81a3-2082eaad0e4e",
   "metadata": {},
   "outputs": [
    {
     "data": {
      "text/plain": [
       "<module 'numpy' from 'C:\\\\Users\\\\17164\\\\anaconda3\\\\lib\\\\site-packages\\\\numpy\\\\__init__.py'>"
      ]
     },
     "execution_count": 38,
     "metadata": {},
     "output_type": "execute_result"
    }
   ],
   "source": [
    "import numpy as np\n",
    "\n",
    "np"
   ]
  },
  {
   "cell_type": "code",
   "execution_count": 46,
   "id": "a08b6648-320d-4181-b107-7f0d3419eaa5",
   "metadata": {},
   "outputs": [
    {
     "data": {
      "text/plain": [
       "Text(0, 0.5, 'hunnies')"
      ]
     },
     "execution_count": 46,
     "metadata": {},
     "output_type": "execute_result"
    },
    {
     "data": {
      "image/png": "[encoded data removed]",
      "text/plain": [
       "<Figure size 432x288 with 1 Axes>"
      ]
     },
     "metadata": {
      "needs_background": "light"
     },
     "output_type": "display_data"
    }
   ],
   "source": [
    "import matplotlib.pyplot as plt\n",
    "x = np.linspace(-1,1,200)\n",
    "y = x**2\n",
    "plt.plot(x,y)\n",
    "plt.xlabel('bigboi')\n",
    "plt.ylabel('hunnies')"
   ]
  }
 ],
 "metadata": {
  "kernelspec": {
   "display_name": "Python 3 (ipykernel)",
   "language": "python",
   "name": "python3"
  },
  "language_info": {
   "codemirror_mode": {
    "name": "ipython",
    "version": 3
   },
   "file_extension": ".py",
   "mimetype": "text/x-python",
   "name": "python",
   "nbconvert_exporter": "python",
   "pygments_lexer": "ipython3",
   "version": "3.9.12"
  },
  "toc-autonumbering": true
 },
 "nbformat": 4,
 "nbformat_minor": 5
}
